{
  "nbformat": 4,
  "nbformat_minor": 0,
  "metadata": {
    "colab": {
      "provenance": []
    },
    "kernelspec": {
      "name": "python3",
      "display_name": "Python 3"
    },
    "language_info": {
      "name": "python"
    }
  },
  "cells": [
    {
      "cell_type": "code",
      "source": [
        "#1\n",
        "lst = [1,2,3,4,5,6,7,8,9,10,11,12,13,14,15,16,17,18,19,20]\n",
        "even = []\n",
        "for i in lst:\n",
        "  if i%2 == 0:\n",
        "    even.append(i)\n",
        "print(sum(even))\n",
        "odd = []\n",
        "for i in lst:\n",
        "  if i%2 != 0:\n",
        "     odd.append(i)\n",
        "prod = 1\n",
        "for x in odd:\n",
        "  prod *= x\n",
        "print(prod)\n",
        "s = sum(lst)\n",
        "n = len(lst)\n",
        "mean = s/n\n",
        "median = (n+((n+1)/2))/2\n",
        "sd = sum([(i-mean)**2 for i in lst])\n",
        "sdv = (sd/n)**0.5\n",
        "print(mean,median,sdv)\n",
        "\n"
      ],
      "metadata": {
        "colab": {
          "base_uri": "https://localhost:8080/"
        },
        "id": "Ih2t7ZvSVfcN",
        "outputId": "af6d201c-b351-4bcd-d3cb-0cc5c710bd24"
      },
      "execution_count": 20,
      "outputs": [
        {
          "output_type": "stream",
          "name": "stdout",
          "text": [
            "110\n",
            "654729075\n",
            "10.5 15.25 5.766281297335398\n"
          ]
        }
      ]
    },
    {
      "cell_type": "code",
      "source": [
        "#2\n",
        "# mutable - these data types are which can changed after they are created.\n",
        "#eg. list can be changed by using append\n",
        "lst=[1]\n",
        "lst.append(2)\n",
        "print(lst)\n",
        "#immutable - these are the data types which cannot be changed after they are created.\n",
        "#eg.tuples"
      ],
      "metadata": {
        "colab": {
          "base_uri": "https://localhost:8080/"
        },
        "id": "On78VsA7jLXI",
        "outputId": "81c68896-82a4-4ef8-eb26-1c19c9b8ab71"
      },
      "execution_count": 39,
      "outputs": [
        {
          "output_type": "stream",
          "name": "stdout",
          "text": [
            "[1, 2]\n"
          ]
        }
      ]
    },
    {
      "cell_type": "code",
      "source": [
        "#3\n",
        "l = []\n",
        "n=int(input())\n",
        "a = 0\n",
        "b = 1\n",
        "\n",
        "l.append(a)\n",
        "for i in range(1,n):\n",
        "  l.append(b)\n",
        "  nxt_no = a+b\n",
        "  a = b\n",
        "  b = nxt_no\n",
        "print(l)"
      ],
      "metadata": {
        "colab": {
          "base_uri": "https://localhost:8080/"
        },
        "id": "P-l44JZAWDaD",
        "outputId": "ce999d00-d84c-4827-dc1d-a47a0d8370b3"
      },
      "execution_count": null,
      "outputs": [
        {
          "output_type": "stream",
          "name": "stdout",
          "text": [
            "10\n",
            "[0, 1, 1, 2, 3, 5, 8, 13, 21, 34]\n"
          ]
        }
      ]
    },
    {
      "cell_type": "code",
      "source": [
        "#4\n",
        "lst = [3, 5, 7, 9, 13]\n",
        "lst.insert(3,6)\n",
        "print(lst)\n",
        "\n",
        "\n",
        "lst.remove(7)\n",
        "print(lst)\n",
        "\n",
        "\n",
        "lst.reverse()\n",
        "print(lst)\n",
        "\n",
        "\n",
        "lst1=[3, 5, 7, 6, 9, 13]\n",
        "s = sum(lst1)\n",
        "n = len(lst1)\n",
        "mean = s/n\n",
        "median = (n+((n+1)/2))/2\n",
        "print(mean)\n",
        "print(median)\n",
        "\n"
      ],
      "metadata": {
        "colab": {
          "base_uri": "https://localhost:8080/"
        },
        "id": "doinf6-ScMmS",
        "outputId": "cc70f892-4991-4e13-da29-a219a2a02094"
      },
      "execution_count": 21,
      "outputs": [
        {
          "output_type": "stream",
          "name": "stdout",
          "text": [
            "[3, 5, 7, 6, 9, 13]\n",
            "[3, 5, 6, 9, 13]\n",
            "[13, 9, 6, 5, 3]\n",
            "7.166666666666667\n",
            "4.75\n"
          ]
        }
      ]
    },
    {
      "cell_type": "code",
      "source": [
        "\\from re import L\n",
        "#5\n",
        "l = input()\n",
        "n = l.split(',')\n",
        "print(n)\n",
        "\n",
        "a = [int(x) for x in n]\n",
        "l = sum(a)\n",
        "m = len(n)\n",
        "mean = l/m\n",
        "print(mean)\n",
        "\n",
        "small = min(a)\n",
        "big = max(a)\n",
        "print(small,big)"
      ],
      "metadata": {
        "colab": {
          "base_uri": "https://localhost:8080/"
        },
        "id": "XKeDCK9Qk2ny",
        "outputId": "9286c499-4cba-4d77-9714-0cb22412574b"
      },
      "execution_count": null,
      "outputs": [
        {
          "output_type": "stream",
          "name": "stdout",
          "text": [
            "1,2,3,4,5\n",
            "['1', '2', '3', '4', '5']\n",
            "3.0\n",
            "1 5\n"
          ]
        }
      ]
    },
    {
      "cell_type": "code",
      "source": [
        "#6\n",
        "str=input()\n",
        "new_str=str.lower()\n",
        "#did this lower due to as if i took a normal str it would give me issue with the capital letters. eg. Naman\n",
        "new_str1=\"\".join(new_str.split())\n",
        "if new_str1== ((new_str1)[::-1]):\n",
        "  print(\"True\")\n",
        "else:\n",
        "  print(\"False\")"
      ],
      "metadata": {
        "colab": {
          "base_uri": "https://localhost:8080/"
        },
        "id": "1-WcrEElbF-l",
        "outputId": "5f8d9472-3e35-46cb-af03-25ae811cdafe"
      },
      "execution_count": null,
      "outputs": [
        {
          "output_type": "stream",
          "name": "stdout",
          "text": [
            "A man a plan a canal Panama\n",
            "True\n"
          ]
        }
      ]
    },
    {
      "cell_type": "code",
      "source": [
        "#7\n",
        "student_marks = {\n",
        "    'Aditya': 85,\n",
        "    'akshat': 92,\n",
        "    'garv': 78,\n",
        "    'raj': 88,\n",
        "    'harsh': 95}\n",
        "\n",
        "avg = sum(student_marks.values())/len(student_marks)\n",
        "print(avg)\n",
        "\n",
        "for students, marks in student_marks.items():\n",
        "  if marks > avg:\n",
        "    print(students)"
      ],
      "metadata": {
        "colab": {
          "base_uri": "https://localhost:8080/"
        },
        "id": "dW_VfR1y0cJy",
        "outputId": "0926a545-8247-4cb1-db73-8038780a1c99"
      },
      "execution_count": null,
      "outputs": [
        {
          "output_type": "stream",
          "name": "stdout",
          "text": [
            "87.6\n",
            "akshat\n",
            "raj\n",
            "harsh\n"
          ]
        }
      ]
    },
    {
      "cell_type": "code",
      "source": [
        "#8\n",
        "lst = [(1,1), (2,4), (3,9), (4,16), (5,25), (6,36), (7,49), (8,64), (9,81), (10,100)]\n",
        "A = tuple(lst)\n",
        "print(A)\n"
      ],
      "metadata": {
        "colab": {
          "base_uri": "https://localhost:8080/"
        },
        "id": "4oZl0rqIuzUk",
        "outputId": "df9769a5-7574-476e-9fc7-c0857631249f"
      },
      "execution_count": null,
      "outputs": [
        {
          "output_type": "stream",
          "name": "stdout",
          "text": [
            "((1, 1), (2, 4), (3, 9), (4, 16), (5, 25), (6, 36), (7, 49), (8, 64), (9, 81), (10, 100))\n"
          ]
        }
      ]
    },
    {
      "cell_type": "code",
      "source": [
        "#9\n",
        "d1 = {'a': 1, 'b': 2, 'c': 3, 'd': 4}\n",
        "d2 = {'e': 5, 'f': 6, 'g': 7, 'h': 8}\n",
        "d1.update(d2)\n",
        "print(d1)\n"
      ],
      "metadata": {
        "colab": {
          "base_uri": "https://localhost:8080/"
        },
        "id": "JjgkCnCs-lXI",
        "outputId": "de6bf3d4-faaa-4e58-b9b8-5bda1983c830"
      },
      "execution_count": null,
      "outputs": [
        {
          "output_type": "stream",
          "name": "stdout",
          "text": [
            "{'a': 1, 'b': 2, 'c': 3, 'd': 4, 'e': 5, 'f': 6, 'g': 7, 'h': 8}\n"
          ]
        }
      ]
    },
    {
      "cell_type": "code",
      "source": [
        "#10\n",
        "str = input()\n",
        "str1 = str.lower()\n",
        "print(str1)\n",
        "\n",
        "def f(x):\n",
        "  fdict = {}\n",
        "  for i in x:\n",
        "    if i in fdict:\n",
        "      fdict[i] += 1\n",
        "    else:\n",
        "      fdict[i] = 1\n",
        "  return fdict\n",
        "\n",
        "print(f(str1))\n",
        "\n",
        "\n",
        "\n"
      ],
      "metadata": {
        "colab": {
          "base_uri": "https://localhost:8080/"
        },
        "id": "uzk0R2F5_xkt",
        "outputId": "63fb41f9-623c-4a72-adba-346e4a866bd1"
      },
      "execution_count": null,
      "outputs": [
        {
          "output_type": "stream",
          "name": "stdout",
          "text": [
            "aditya\n",
            "aditya\n",
            "{'a': 2, 'd': 1, 'i': 1, 't': 1, 'y': 1}\n"
          ]
        }
      ]
    },
    {
      "cell_type": "code",
      "source": [
        "#11 duplicates krna\n",
        "lst = input()\n",
        "x = lst.split()\n",
        "\n",
        "\n",
        "lst1 = []\n",
        "for i in lst:\n",
        "  if i not in x:\n",
        "      lst1.append(i)\n",
        "print(lst1)\n"
      ],
      "metadata": {
        "colab": {
          "base_uri": "https://localhost:8080/"
        },
        "id": "EI9J3G3pDaKM",
        "outputId": "4c844e0e-6675-4a02-b973-0f344589b1ea"
      },
      "execution_count": null,
      "outputs": [
        {
          "output_type": "stream",
          "name": "stdout",
          "text": [
            "1,2,2,4,1\n",
            "['1', ',', '2', ',', '2', ',', '4', ',', '1']\n"
          ]
        }
      ]
    },
    {
      "cell_type": "code",
      "source": [
        "#12\n",
        "lst = [\"aditya\", \"aryan\", \"raj\", \"nayan\", \"pranav\"]\n",
        "lst2 = []\n",
        "for i in lst:\n",
        "  lst2.append(int(len(i)))\n",
        "\n",
        "print(max(lst2))\n",
        "#took the len of longest string first which is used to easily give the longest string.\n",
        "for i in lst:\n",
        "  if len(i) == max(lst2):\n",
        "    print(i)\n",
        "\n",
        "vow = [\"a\",\"e\",\"i\",\"o\",\"u\"]\n",
        "c = []\n",
        "for i in lst:\n",
        "  if i[0] in vow:\n",
        "    c.append(i)\n",
        "\n",
        "print(len(c))\n",
        "\n"
      ],
      "metadata": {
        "colab": {
          "base_uri": "https://localhost:8080/"
        },
        "id": "6TJ3fXCL7Ju4",
        "outputId": "76f6d41e-c8b0-42ce-a13e-d1276a932ed7"
      },
      "execution_count": null,
      "outputs": [
        {
          "output_type": "stream",
          "name": "stdout",
          "text": [
            "6\n",
            "aditya\n",
            "pranav\n",
            "2\n"
          ]
        }
      ]
    },
    {
      "cell_type": "code",
      "source": [
        "#13\n",
        "dict = [{'name': 'Aditya', 'age': 18}, {'name': 'Aryan', 'age': 16}]\n",
        "\n",
        "sort_age = sorted(dict, key=lambda item: item['age'])\n",
        "sort_name = sorted(dict, key=lambda item: item['name'])\n",
        "#here used lambda to specify the value on which sorting is to be done\n",
        "print(sort_age)\n",
        "print(sort_name)\n"
      ],
      "metadata": {
        "colab": {
          "base_uri": "https://localhost:8080/"
        },
        "id": "aXgH8ubs2mnr",
        "outputId": "a7066bc2-16c9-4216-bade-38e09af4737f"
      },
      "execution_count": 38,
      "outputs": [
        {
          "output_type": "stream",
          "name": "stdout",
          "text": [
            "[{'name': 'Aryan', 'age': 16}, {'name': 'Aditya', 'age': 18}]\n",
            "[{'name': 'Aditya', 'age': 18}, {'name': 'Aryan', 'age': 16}]\n"
          ]
        }
      ]
    },
    {
      "cell_type": "code",
      "source": [
        "#14\n",
        "\n",
        "str = input()\n",
        "word = str.split()\n",
        "print(word)\n",
        "\n",
        "rem = []\n",
        "for i in word:\n",
        "  if len(i) >= 4:\n",
        "    rem.append(i)\n",
        "print(rem)\n",
        "\n",
        "rem.sort()\n",
        "print(rem)"
      ],
      "metadata": {
        "id": "3cMheHTeyA9t",
        "colab": {
          "base_uri": "https://localhost:8080/"
        },
        "outputId": "cffdb1aa-43a8-482e-f5ab-bb0153300ffc"
      },
      "execution_count": 12,
      "outputs": [
        {
          "output_type": "stream",
          "name": "stdout",
          "text": [
            "Aditya is good boy and successful engineer\n",
            "['Aditya', 'is', 'good', 'boy', 'and', 'successful', 'engineer']\n",
            "['Aditya', 'good', 'successful', 'engineer']\n",
            "['Aditya', 'engineer', 'good', 'successful']\n"
          ]
        }
      ]
    },
    {
      "cell_type": "code",
      "source": [
        "#15\n",
        "input = \"listen\"\n",
        "inputlst = [\"enlist\", \"google\", \"inlets\", \"banana\"]\n",
        "\n",
        "letters = []\n",
        "for i in word:\n",
        "    letters.append(i)\n",
        "\n",
        "def anagram(x,input):\n",
        "    if len(x) != len(word):\n",
        "        return 'False'\n",
        "    else:\n",
        "        agm = 'True'\n",
        "        for i in x:\n",
        "            if i not in letters:\n",
        "                agm = 'False'\n",
        "        return agm\n",
        "\n",
        "\n",
        "\n",
        "anagrams = []\n",
        "for i in words:\n",
        "    if anagram(i,word) == 'True':\n",
        "        anagrams.append(i)\n",
        "\n",
        "print(anagrams)\n"
      ],
      "metadata": {
        "colab": {
          "base_uri": "https://localhost:8080/"
        },
        "id": "BCV010CqIyrc",
        "outputId": "a7ed82f6-3e65-4000-edb7-165eff201308"
      },
      "execution_count": null,
      "outputs": [
        {
          "output_type": "stream",
          "name": "stdout",
          "text": [
            "['enlist', 'inlets']\n"
          ]
        }
      ]
    },
    {
      "cell_type": "code",
      "source": [
        "#16\n",
        "list1 = [1,2,3,4,5,6,7,8,9,10]\n",
        "list2 = [10,19,20,1,2,3,4,5,13]\n",
        "\n",
        "union = set(list1) | set(list2)\n",
        "intersection = set(list1) & set(list2)\n",
        "symdiff = set(list1).symmetric_difference(set(list2))\n",
        "\n",
        "print(union)\n",
        "print(intersection)\n",
        "print(symdiff)\n"
      ],
      "metadata": {
        "colab": {
          "base_uri": "https://localhost:8080/"
        },
        "id": "vAIZC2K324xF",
        "outputId": "222c6ada-a73d-42dc-b619-72b316de9e28"
      },
      "execution_count": 26,
      "outputs": [
        {
          "output_type": "stream",
          "name": "stdout",
          "text": [
            "{1, 2, 3, 4, 5, 6, 7, 8, 9, 10, 13, 19, 20}\n",
            "{1, 2, 3, 4, 5, 10}\n",
            "{6, 7, 8, 9, 13, 19, 20}\n"
          ]
        }
      ]
    },
    {
      "cell_type": "code",
      "source": [
        "#17\n",
        "file_name = 'psdv'\n",
        "with open(file_name, 'w') as file:\n",
        "  file.write(\"1\\n\")\n",
        "  file.write(\"2\\n\")\n",
        "  file.write(\"3\\n\")\n",
        "  file.write(\"4\\n\")\n",
        "\n",
        "with open(file_name,'r') as file:\n",
        "  re =  file.read()\n",
        "print(re)\n",
        "#made a list to calculate the sum easily\n",
        "lst = []\n",
        "for line in re.splitlines():\n",
        "  lst.append(int(line.strip()))\n",
        "s = sum(lst)\n",
        "print(s)"
      ],
      "metadata": {
        "id": "MZ_0xOa39qUb",
        "colab": {
          "base_uri": "https://localhost:8080/"
        },
        "outputId": "986c49a6-2056-4009-ee20-f48cc52ffed3"
      },
      "execution_count": 26,
      "outputs": [
        {
          "output_type": "stream",
          "name": "stdout",
          "text": [
            "1\n",
            "2\n",
            "3\n",
            "4\n",
            "\n",
            "10\n"
          ]
        }
      ]
    },
    {
      "cell_type": "code",
      "source": [
        "#18\n",
        "file_name = 'q18.txt'\n",
        "\n",
        "with open(file_name,'w') as file:\n",
        "  file.write(\"Aditya\\nHarsh\\nRaj\\nSoumil\\nAditya\")\n",
        "\n",
        "lst = []\n",
        "with open(file_name,'r') as file:\n",
        "  re = file.read()\n",
        "  lst=re.split()\n",
        "count = len(lst)\n",
        "print(count)\n",
        "print(re)\n",
        "m=0\n",
        "mw=None\n",
        "for words in lst:\n",
        "  if lst.count(words)>m:\n",
        "   m= lst.count(words)\n",
        "   mw=words\n",
        "print(mw)\n",
        "\n"
      ],
      "metadata": {
        "colab": {
          "base_uri": "https://localhost:8080/"
        },
        "id": "TeuPDsU2W8n3",
        "outputId": "d0005b8d-965d-499f-a5f7-aee3d5a3e11d"
      },
      "execution_count": 23,
      "outputs": [
        {
          "output_type": "stream",
          "name": "stdout",
          "text": [
            "5\n",
            "Aditya\n",
            "Harsh\n",
            "Raj\n",
            "Soumil\n",
            "Aditya\n",
            "Aditya\n"
          ]
        }
      ]
    },
    {
      "cell_type": "markdown",
      "source": [],
      "metadata": {
        "id": "gDd-DE9PlCe6"
      }
    },
    {
      "cell_type": "code",
      "source": [
        "#19\n",
        "import numpy as np\n",
        "\n",
        "lst = np.random.randint(1,50,100)\n",
        "print(lst)\n",
        "\n",
        "\n",
        "file_name = 'intf'\n",
        "\n",
        "with open(file_name, 'w') as file:\n",
        "  for x in lst :\n",
        "        file.write(f\"{x}\\n\")\n",
        "\n",
        "with open(file_name, 'r') as file:\n",
        "  re = file.read()\n",
        "\n",
        "\n",
        "lst1 = []\n",
        "for line in re.splitlines():\n",
        "  lst1.append(int(line.strip()))\n",
        "#used splitlines to split the string into list of lines and used line.strip to remove spaces\n",
        "s = sum(lst1)\n",
        "print(s)\n",
        "n= len(lst1)\n",
        "mean = s/n\n",
        "print(mean)\n",
        "\n",
        "\n"
      ],
      "metadata": {
        "colab": {
          "base_uri": "https://localhost:8080/"
        },
        "id": "0uB701nUQnyP",
        "outputId": "84932918-5291-4de6-914e-0638da9469b8"
      },
      "execution_count": 36,
      "outputs": [
        {
          "output_type": "stream",
          "name": "stdout",
          "text": [
            "[20 36 35 13 16 39 41 33  6 10 18 27 11 16 31 30  5  1 11 43 24 38 17 12\n",
            " 28 20 13 41 13 37  3 45 32  7  5 14 41 14 48 13  1 20 44  8 21 34 46  1\n",
            " 12 23 31 16  3  5 49 26 28  8  4 29 49 16 28 25 35 20 17 19 13  4  8 49\n",
            " 44 42  7 25 38  9 39 19  1 31 34 21 27 26 24 19  6 27 39 42 29  9  3 48\n",
            " 10  9 12  9]\n",
            "2248\n",
            "22.48\n"
          ]
        }
      ]
    },
    {
      "cell_type": "code",
      "source": [
        "#20\n",
        "file_name = 'q20.csv'\n",
        "\n",
        "with open(file_name, 'w') as csvfile:\n",
        "  for x in lst :\n",
        "        csvfile.write(\"1\\n2\\n3\\n4\\n5\\n6\\n7\\n\")\n",
        "\n",
        "with open(file_name, 'r') as csvfile:\n",
        "  re = csvfile.read()\n",
        "\n",
        "print(re)\n",
        "#not able to code further on csv file\n",
        "\n",
        ""
      ],
      "metadata": {
        "colab": {
          "base_uri": "https://localhost:8080/"
        },
        "id": "PGo4tpryibmM",
        "outputId": "45f33500-1b7a-4203-c201-8328ce274a9f"
      },
      "execution_count": 14,
      "outputs": [
        {
          "output_type": "stream",
          "name": "stdout",
          "text": [
            "1\n",
            "2\n",
            "3\n",
            "4\n",
            "5\n",
            "6\n",
            "7\n",
            "1\n",
            "2\n",
            "3\n",
            "4\n",
            "5\n",
            "6\n",
            "7\n",
            "1\n",
            "2\n",
            "3\n",
            "4\n",
            "5\n",
            "6\n",
            "7\n",
            "1\n",
            "2\n",
            "3\n",
            "4\n",
            "5\n",
            "6\n",
            "7\n",
            "1\n",
            "2\n",
            "3\n",
            "4\n",
            "5\n",
            "6\n",
            "7\n",
            "\n"
          ]
        }
      ]
    },
    {
      "cell_type": "code",
      "source": [
        "#21\n",
        "import statistics\n",
        "lst = [1,2,3,4,5,6,6,7,2,3,1,6,7]\n",
        "s = sum(lst)\n",
        "n = len(lst)\n",
        "mean = s/n\n",
        "median = (n+((n+1)/2))/2\n",
        "\n",
        "sd = sum([(i-mean)**2 for i in lst])\n",
        "sdv = (sd/n)**0.5\n",
        "print(mean)\n",
        "print(\"mode:\",statistics.mode(lst))\n",
        "#couldn't calculate mode so used import\n",
        "print(median)\n",
        "print(sdv)\n"
      ],
      "metadata": {
        "colab": {
          "base_uri": "https://localhost:8080/"
        },
        "id": "YTAtTXdd7HBs",
        "outputId": "f34f0f6f-1b38-492f-dc9f-94bdd6fa318b"
      },
      "execution_count": 25,
      "outputs": [
        {
          "output_type": "stream",
          "name": "stdout",
          "text": [
            "4.076923076923077\n",
            "mode: 6\n",
            "10.0\n",
            "2.1289773081689307\n"
          ]
        }
      ]
    },
    {
      "cell_type": "code",
      "source": [
        "#22\n",
        "import numpy as np\n",
        "num = np.linspace(0,1,10)\n",
        "#used linspace to get exact 10 values between 0 and 1\n",
        "m = min(num)\n",
        "n = max(num)\n",
        "nor = [(x - m) / (n - m) for x in num]\n",
        "print(nor)\n"
      ],
      "metadata": {
        "colab": {
          "base_uri": "https://localhost:8080/"
        },
        "id": "JtuvgaWMic9y",
        "outputId": "2da1de32-36f9-4502-a911-e6f4d7cf71e5"
      },
      "execution_count": 34,
      "outputs": [
        {
          "output_type": "stream",
          "name": "stdout",
          "text": [
            "[0.0, 0.1, 0.2, 0.30000000000000004, 0.4, 0.5, 0.6000000000000001, 0.7000000000000001, 0.8, 0.9, 1.0]\n"
          ]
        }
      ]
    },
    {
      "cell_type": "code",
      "source": [
        "#23\n",
        "a = int(input())\n",
        "if a%2 == 0:\n",
        "  print('even')\n",
        "else:\n",
        "  print('odd')\n"
      ],
      "metadata": {
        "colab": {
          "base_uri": "https://localhost:8080/"
        },
        "id": "Ae-zSLJh2WdM",
        "outputId": "7d77ec89-3fcc-4b83-dab6-496d0521c7f9"
      },
      "execution_count": 18,
      "outputs": [
        {
          "output_type": "stream",
          "name": "stdout",
          "text": [
            "10\n",
            "even\n"
          ]
        }
      ]
    },
    {
      "cell_type": "code",
      "source": [
        "#24\n",
        "marks = int(input())\n",
        "if 90<marks<=100:\n",
        "  print('A')\n",
        "if 80<marks<=90:\n",
        "  print('B')\n",
        "if 70<marks<=60:\n",
        "  print('C')\n",
        "if 60<marks<=50:\n",
        "  print('D')\n",
        "if 50<marks<=0:\n",
        "  print('F')"
      ],
      "metadata": {
        "colab": {
          "base_uri": "https://localhost:8080/"
        },
        "id": "AoOlaxpD3eZj",
        "outputId": "848d98c2-ef0a-4a6d-b960-b87d2412a23d"
      },
      "execution_count": 20,
      "outputs": [
        {
          "output_type": "stream",
          "name": "stdout",
          "text": [
            "85\n",
            "B\n"
          ]
        }
      ]
    },
    {
      "cell_type": "code",
      "source": [
        "#25\n",
        "yr = int(input())\n",
        "if yr%4 == 0:\n",
        "  if yr%100== 0 and yr%400 != 0:\n",
        "    print('Not a leap year')\n",
        "  else:\n",
        "    print('Leap year')\n",
        "else:\n",
        "  print('Not a leap year')\n",
        "\n"
      ],
      "metadata": {
        "colab": {
          "base_uri": "https://localhost:8080/"
        },
        "id": "9VeJYsj23eT1",
        "outputId": "a65ef040-abc4-4fe4-adb2-acf35c30c057"
      },
      "execution_count": 40,
      "outputs": [
        {
          "output_type": "stream",
          "name": "stdout",
          "text": [
            "2024\n",
            "Leap year\n"
          ]
        }
      ]
    }
  ]
}